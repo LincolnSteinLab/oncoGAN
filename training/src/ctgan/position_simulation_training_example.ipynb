{
 "cells": [
  {
   "cell_type": "code",
   "execution_count": null,
   "metadata": {},
   "outputs": [],
   "source": [
    "import os\n",
    "import pickle\n",
    "import pandas as pd\n",
    "from sdv.datasets.local import load_csvs\n",
    "from sdv.metadata import SingleTableMetadata\n",
    "from sdv.single_table import CTGANSynthesizer, TVAESynthesizer\n",
    "import matplotlib.pyplot as plt"
   ]
  },
  {
   "cell_type": "markdown",
   "metadata": {},
   "source": [
    "# Step 1 - CTGAN"
   ]
  },
  {
   "cell_type": "code",
   "execution_count": null,
   "metadata": {},
   "outputs": [],
   "source": [
    "# Import external data\n",
    "datasets = load_csvs(folder_name='datasets/')\n",
    "gan = datasets[''] #REVIEW - Update path"
   ]
  },
  {
   "cell_type": "code",
   "execution_count": null,
   "metadata": {},
   "outputs": [],
   "source": [
    "# Remove ranks with less than 2 mutations\n",
    "gan = gan.loc[gan.groupby('rank')['rank'].transform('size') >= 3]"
   ]
  },
  {
   "cell_type": "code",
   "execution_count": null,
   "metadata": {},
   "outputs": [],
   "source": [
    "# Detect metadata\n",
    "metadata = SingleTableMetadata()\n",
    "metadata.detect_from_dataframe(data=gan)\n",
    "\n",
    "# Validate metadata\n",
    "metadata.validate()\n",
    "metadata"
   ]
  },
  {
   "cell_type": "code",
   "execution_count": null,
   "metadata": {},
   "outputs": [],
   "source": [
    "# Parameters\n",
    "epochs = 80 \n",
    "batch_size = 4000\n",
    "discriminator_dim = (8,8) \n",
    "discriminator_decay = 1e-6 \n",
    "discriminator_lr = 2e-4 \n",
    "discriminator_steps = 2 \n",
    "embedding_dim = 128\n",
    "generator_dim = (8,8) \n",
    "generator_decay = 1e-6\n",
    "generator_lr = 2e-4 \n",
    "pac = 10 \n",
    "\n",
    "# Print parameters\n",
    "discriminator_dim_print = f'{discriminator_dim[0]}_{discriminator_dim[1]}'\n",
    "generator_dim_print = f'{generator_dim[0]}_{generator_dim[1]}'\n",
    "\n",
    "# Define synthesizer options\n",
    "synthesizer = CTGANSynthesizer(metadata,\n",
    "                               epochs = epochs,\n",
    "                               batch_size = batch_size,\n",
    "                               discriminator_dim = discriminator_dim,\n",
    "                               discriminator_decay = discriminator_decay,\n",
    "                               discriminator_lr =discriminator_lr,\n",
    "                               discriminator_steps = discriminator_steps,\n",
    "                               embedding_dim = embedding_dim,\n",
    "                               generator_dim = generator_dim,\n",
    "                               generator_decay = generator_decay,\n",
    "                               generator_lr = generator_lr,\n",
    "                               pac = pac,\n",
    "                               verbose = True,\n",
    "                               enforce_min_max_values = False)"
   ]
  },
  {
   "cell_type": "code",
   "execution_count": null,
   "metadata": {},
   "outputs": [],
   "source": [
    "# Transform the columns\n",
    "synthesizer.auto_assign_transformers(gan)\n",
    "synthesizer.get_transformers()"
   ]
  },
  {
   "cell_type": "code",
   "execution_count": null,
   "metadata": {},
   "outputs": [],
   "source": [
    "# Train the model\n",
    "synthesizer.fit(gan)\n",
    "synthesizer.save(filepath=f'/outdir/ctgan_ep{epochs}_bs{batch_size}_ddim{discriminator_dim_print}_dlr{discriminator_lr}_ds{discriminator_steps}_edim{embedding_dim}_gdim{generator_dim_print}_glr{generator_lr}_pac{pac}_step1.pkl') #REVIEW - Update path"
   ]
  },
  {
   "cell_type": "code",
   "execution_count": null,
   "metadata": {},
   "outputs": [],
   "source": [
    "# Simulate data\n",
    "synthetic_data = synthesizer.sample(num_rows=gan.shape[0])"
   ]
  },
  {
   "cell_type": "markdown",
   "metadata": {},
   "source": [
    "## Compare real vs simulated results"
   ]
  },
  {
   "cell_type": "code",
   "execution_count": null,
   "metadata": {},
   "outputs": [],
   "source": [
    "# Sort the ranks\n",
    "conversion = pd.DataFrame({'rank': pd.concat([gan['rank'], synthetic_data['rank']]).unique()})\n",
    "conversion['conv'] = range(len(conversion))"
   ]
  },
  {
   "cell_type": "code",
   "execution_count": null,
   "metadata": {},
   "outputs": [],
   "source": [
    "# Real data\n",
    "gan_bar = gan.merge(conversion, on='rank', how='left')\n",
    "bar_pd = pd.crosstab(index=gan_bar['conv'], columns='count')\n",
    "plt.bar(x = bar_pd['count'].index, height = bar_pd['count'])\n",
    "plt.xlabel('Rank')\n",
    "plt.ylabel('Frequency')\n",
    "plt.title('Real data')\n",
    "plt.show()"
   ]
  },
  {
   "cell_type": "code",
   "execution_count": null,
   "metadata": {},
   "outputs": [],
   "source": [
    "# Synthetic data\n",
    "synthetic_bar = synthetic_data.merge(conversion, on='rank', how='left')\n",
    "bar_pd = pd.crosstab(index=synthetic_bar['conv'], columns='count')\n",
    "plt.bar(x = bar_pd['count'].index, height = bar_pd['count'])\n",
    "plt.xlabel('Rank')\n",
    "plt.ylabel('Frequency')\n",
    "plt.title('Synthetic data')\n",
    "plt.show()"
   ]
  },
  {
   "cell_type": "markdown",
   "metadata": {},
   "source": [
    "# Step 2 - TVAE"
   ]
  },
  {
   "cell_type": "code",
   "execution_count": null,
   "metadata": {},
   "outputs": [],
   "source": [
    "# Import external data\n",
    "datasets = load_csvs(folder_name='datasets/')\n",
    "gan = datasets[''] #REVIEW - Update path"
   ]
  },
  {
   "cell_type": "code",
   "execution_count": null,
   "metadata": {},
   "outputs": [],
   "source": [
    "# Remove ranks with less than 2 mutations\n",
    "gan = gan.loc[gan.groupby('rank')['rank'].transform('size') >= 3]"
   ]
  },
  {
   "cell_type": "code",
   "execution_count": null,
   "metadata": {},
   "outputs": [],
   "source": [
    "# Generate step1 data\n",
    "synthesizer = CTGANSynthesizer.load('/outdir/_step1.pkl') #REVIEW - Update path\n",
    "synthetic_data = synthesizer.sample(num_rows=gan.shape[0])"
   ]
  },
  {
   "cell_type": "code",
   "execution_count": null,
   "metadata": {},
   "outputs": [],
   "source": [
    "# For each window from step1\n",
    "rank1 = gan['rank'].unique()\n",
    "\n",
    "# Define parameters\n",
    "epochs = 3000\n",
    "batch_size = 5000 \n",
    "compress_dims = (256,256) \n",
    "decompress_dims = (256,256) \n",
    "embedding_dim = 128 \n",
    "l2scale = 1e-5 \n",
    "loss_factor = 2 \n",
    "\n",
    "# Print paramaters\n",
    "compress_dims_print = f'{compress_dims[0]}_{compress_dims[1]}'\n",
    "decompress_dims_print = f'{decompress_dims[0]}_{decompress_dims[1]}'\n",
    "\n",
    "synthetic_data2:pd.DataFrame = pd.DataFrame()\n",
    "for (idx,window) in enumerate(rank1):\n",
    "\n",
    "    if idx == 103: #The last rank only has 1 row\n",
    "        continue\n",
    "    \n",
    "    # Make a subset\n",
    "    tmp = pd.DataFrame({'start': gan['start'][gan['rank'] == window]})\n",
    "    \n",
    "    # Detect metadata\n",
    "    metadata = SingleTableMetadata()\n",
    "    metadata.detect_from_dataframe(data=tmp)\n",
    "        \n",
    "    # Define synthesizer options\n",
    "    synthesizer = TVAESynthesizer(metadata,\n",
    "                              epochs = epochs,\n",
    "                              batch_size = batch_size,\n",
    "                              compress_dims = compress_dims,\n",
    "                              decompress_dims = decompress_dims,\n",
    "                              embedding_dim =embedding_dim,\n",
    "                              l2scale = l2scale,\n",
    "                              loss_factor = loss_factor,\n",
    "                              enforce_min_max_values = True)\n",
    "    \n",
    "    # Transform the columns\n",
    "    synthesizer.auto_assign_transformers(tmp)\n",
    "\n",
    "    # Train the model\n",
    "    synthesizer.fit(tmp)\n",
    "    synthesizer.save(filepath=f'/outdir/bin{idx}_tvae_ep{epochs}_bs{batch_size}_cdim{compress_dims_print}_edim{embedding_dim}_ddim{decompress_dims_print}_step2.pkl') #REVIEW - Update path\n",
    "\n",
    "    # Simulate data\n",
    "    nrow = synthetic_data[synthetic_data['rank'] == window].shape[0]\n",
    "    tmp_synthetic_data = synthesizer.sample(num_rows=nrow)\n",
    "    \n",
    "    # Concatenate the data\n",
    "    synthetic_data2 = pd.concat([synthetic_data2, tmp_synthetic_data])\n",
    "\n",
    "# Save simulated data\n",
    "synthetic_data2.to_csv(f'/outdir/tvae_ep{epochs}_bs{batch_size}_cdim{compress_dims_print}_edim{embedding_dim}_ddim{decompress_dims_print}_step2.csv',\n",
    "                      index=False) #REVIEW - Update path\n",
    "synthetic_data.to_csv(f'/outdir/tvae_ep{epochs}_bs{batch_size}_cdim{compress_dims_print}_edim{embedding_dim}_ddim{decompress_dims_print}_step1.csv',\n",
    "                      index=False) #REVIEW - Update path"
   ]
  },
  {
   "cell_type": "markdown",
   "metadata": {},
   "source": [
    "# Step 3 - Save the models into a pickle"
   ]
  },
  {
   "cell_type": "code",
   "execution_count": null,
   "metadata": {},
   "outputs": [],
   "source": [
    "posModel = {}\n",
    "\n",
    "# Step1 model\n",
    "posModel['step1'] = CTGANSynthesizer.load('/outdir/step1.pkl') #REVIEW - Update path\n",
    "\n",
    "# Step2 models\n",
    "for (idx,window) in enumerate(rank1):\n",
    "    posModel[window] = TVAESynthesizer.load(f'/outdir/bin{idx}_*_step2.pkl') #REVIEW - Update path\n",
    "\n",
    "# Save the dictionary into a pickle file\n",
    "with open('/outdir/positions_model.pkl', 'wb') as handle: #REVIEW - Update path\n",
    "    pickle.dump(posModel, handle, protocol=pickle.HIGHEST_PROTOCOL)\n"
   ]
  }
 ],
 "metadata": {
  "kernelspec": {
   "display_name": "Python 3 (ipykernel)",
   "language": "python",
   "name": "python3"
  },
  "language_info": {
   "codemirror_mode": {
    "name": "ipython",
    "version": 3
   },
   "file_extension": ".py",
   "mimetype": "text/x-python",
   "name": "python",
   "nbconvert_exporter": "python",
   "pygments_lexer": "ipython3",
   "version": "3.10.12"
  }
 },
 "nbformat": 4,
 "nbformat_minor": 2
}
