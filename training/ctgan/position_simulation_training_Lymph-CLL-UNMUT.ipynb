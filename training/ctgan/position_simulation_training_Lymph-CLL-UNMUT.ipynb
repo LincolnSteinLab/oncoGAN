{
 "cells": [
  {
   "cell_type": "code",
   "execution_count": 1,
   "metadata": {},
   "outputs": [],
   "source": [
    "#qrsh -P steinlab -l h_vmem=30G,h_rt=03:00:00:00,gpu=1,cuda.0.name=\"Tesla*\" -q gpu.q\n",
    "#module load singularity/3.8.2\n",
    "#cd ~/adiaz/projects/genome_simulator/mutations_distribution/gan/ctgan\n",
    "#singularity exec --writable -B $(pwd):/outdir /u/adiaz-navarro/adiaz/venv/singularity/ctgan_sandbox.sif bash -c \"cd /outdir && jupyter-lab --no-browser --port 8890 --ip=`hostname`\""
   ]
  },
  {
   "cell_type": "code",
   "execution_count": 2,
   "metadata": {},
   "outputs": [],
   "source": [
    "import os\n",
    "import pickle\n",
    "import pandas as pd\n",
    "from sdv.datasets.local import load_csvs\n",
    "from sdv.metadata import SingleTableMetadata\n",
    "from sdv.single_table import CTGANSynthesizer, TVAESynthesizer\n",
    "import matplotlib.pyplot as plt"
   ]
  },
  {
   "cell_type": "markdown",
   "metadata": {},
   "source": [
    "# Step 1 - CTGAN"
   ]
  },
  {
   "cell_type": "code",
   "execution_count": 3,
   "metadata": {},
   "outputs": [],
   "source": [
    "# Import external data\n",
    "datasets = load_csvs(folder_name='datasets/')\n",
    "gan = datasets['gan_mut_v11_positions_Lymph-CLL_UNMUT_step1_100w_div100'] #SECTION - Update path"
   ]
  },
  {
   "cell_type": "code",
   "execution_count": 4,
   "metadata": {},
   "outputs": [],
   "source": [
    "# Remove ranks with less than 2 mutations\n",
    "gan = gan.loc[gan.groupby('rank')['rank'].transform('size') >= 3]"
   ]
  },
  {
   "cell_type": "code",
   "execution_count": 5,
   "metadata": {},
   "outputs": [
    {
     "data": {
      "text/plain": [
       "{\n",
       "    \"METADATA_SPEC_VERSION\": \"SINGLE_TABLE_V1\",\n",
       "    \"columns\": {\n",
       "        \"rank\": {\n",
       "            \"sdtype\": \"categorical\"\n",
       "        }\n",
       "    }\n",
       "}"
      ]
     },
     "execution_count": 5,
     "metadata": {},
     "output_type": "execute_result"
    }
   ],
   "source": [
    "# Detect metadata\n",
    "metadata = SingleTableMetadata()\n",
    "metadata.detect_from_dataframe(data=gan)\n",
    "\n",
    "# Validate metadata\n",
    "metadata.validate()\n",
    "metadata"
   ]
  },
  {
   "cell_type": "code",
   "execution_count": 6,
   "metadata": {},
   "outputs": [],
   "source": [
    "# Parameters\n",
    "epochs = 80 #Working previously with 50 epochs\n",
    "batch_size = 4000 #300 #Working previously with 6000 batch size\n",
    "discriminator_dim = (8,8) #(256,256)\n",
    "discriminator_decay = 1e-6 #Discriminator weight decay for the Adam Optimizer #1e-6\n",
    "discriminator_lr = 2e-4 #2e-4\n",
    "discriminator_steps = 2 #1\n",
    "embedding_dim = 128 #Size of the random sample passed to the Generator #128\n",
    "generator_dim = (8,8) #(256,256)\n",
    "generator_decay = 1e-6 #Generator weight decay for the Adam Optimizer #1e-6\n",
    "generator_lr = 2e-4 #2e-4\n",
    "pac = 10 #10\n",
    "\n",
    "# Print parameters\n",
    "discriminator_dim_print = f'{discriminator_dim[0]}_{discriminator_dim[1]}'\n",
    "generator_dim_print = f'{generator_dim[0]}_{generator_dim[1]}'\n",
    "\n",
    "# Define synthesizer options\n",
    "synthesizer = CTGANSynthesizer(metadata,\n",
    "                               epochs = epochs,\n",
    "                               batch_size = batch_size,\n",
    "                               discriminator_dim = discriminator_dim,\n",
    "                               discriminator_decay = discriminator_decay,\n",
    "                               discriminator_lr =discriminator_lr,\n",
    "                               discriminator_steps = discriminator_steps,\n",
    "                               embedding_dim = embedding_dim,\n",
    "                               generator_dim = generator_dim,\n",
    "                               generator_decay = generator_decay,\n",
    "                               generator_lr = generator_lr,\n",
    "                               pac = pac,\n",
    "                               verbose = True,\n",
    "                               enforce_min_max_values = False)"
   ]
  },
  {
   "cell_type": "code",
   "execution_count": 7,
   "metadata": {},
   "outputs": [
    {
     "data": {
      "text/plain": [
       "{'rank': None}"
      ]
     },
     "execution_count": 7,
     "metadata": {},
     "output_type": "execute_result"
    }
   ],
   "source": [
    "# Transform the columns\n",
    "synthesizer.auto_assign_transformers(gan)\n",
    "synthesizer.get_transformers()"
   ]
  },
  {
   "cell_type": "code",
   "execution_count": 8,
   "metadata": {},
   "outputs": [
    {
     "name": "stderr",
     "output_type": "stream",
     "text": [
      "Gen. (-0.03) | Discrim. (-0.02): 100%|█████████████████████████████████████████████████████████████████████████████████████████████████████████████████████████| 80/80 [07:46<00:00,  5.83s/it]\n"
     ]
    }
   ],
   "source": [
    "# Train the model\n",
    "synthesizer.fit(gan)\n",
    "synthesizer.save(filepath=f'/outdir/tmp_training/Lymph-CLL_UNMUT_ctgan_ep{epochs}_bs{batch_size}_ddim{discriminator_dim_print}_dlr{discriminator_lr}_ds{discriminator_steps}_edim{embedding_dim}_gdim{generator_dim_print}_glr{generator_lr}_pac{pac}_v11_step1_div100.pkl') #SECTION - Update path"
   ]
  },
  {
   "cell_type": "code",
   "execution_count": 9,
   "metadata": {},
   "outputs": [],
   "source": [
    "# Simulate data\n",
    "synthetic_data = synthesizer.sample(num_rows=gan.shape[0])"
   ]
  },
  {
   "cell_type": "markdown",
   "metadata": {},
   "source": [
    "## Compare real vs simulated results"
   ]
  },
  {
   "cell_type": "code",
   "execution_count": 10,
   "metadata": {},
   "outputs": [],
   "source": [
    "# Sort the ranks\n",
    "conversion = pd.DataFrame({'rank': pd.concat([gan['rank'], synthetic_data['rank']]).unique()})\n",
    "conversion['conv'] = range(len(conversion))"
   ]
  },
  {
   "cell_type": "code",
   "execution_count": 11,
   "metadata": {},
   "outputs": [
    {
     "data": {
      "image/png": "[encoded data removed]",
      "text/plain": [
       "<Figure size 640x480 with 1 Axes>"
      ]
     },
     "metadata": {},
     "output_type": "display_data"
    }
   ],
   "source": [
    "# Real data\n",
    "gan_bar = gan.merge(conversion, on='rank', how='left')\n",
    "bar_pd = pd.crosstab(index=gan_bar['conv'], columns='count')\n",
    "plt.bar(x = bar_pd['count'].index, height = bar_pd['count'])\n",
    "plt.xlabel('Rank')\n",
    "plt.ylabel('Frequency')\n",
    "plt.title('Real data')\n",
    "plt.show()"
   ]
  },
  {
   "cell_type": "code",
   "execution_count": 12,
   "metadata": {},
   "outputs": [
    {
     "data": {
      "image/png": "[encoded data removed]",
      "text/plain": [
       "<Figure size 640x480 with 1 Axes>"
      ]
     },
     "metadata": {},
     "output_type": "display_data"
    }
   ],
   "source": [
    "# Synthetic data\n",
    "synthetic_bar = synthetic_data.merge(conversion, on='rank', how='left')\n",
    "bar_pd = pd.crosstab(index=synthetic_bar['conv'], columns='count')\n",
    "plt.bar(x = bar_pd['count'].index, height = bar_pd['count'])\n",
    "plt.xlabel('Rank')\n",
    "plt.ylabel('Frequency')\n",
    "plt.title('Synthetic data')\n",
    "plt.show()"
   ]
  },
  {
   "cell_type": "markdown",
   "metadata": {},
   "source": [
    "# Step 2 - TVAE"
   ]
  },
  {
   "cell_type": "code",
   "execution_count": 4,
   "metadata": {},
   "outputs": [],
   "source": [
    "# Import external data\n",
    "datasets = load_csvs(folder_name='datasets/')\n",
    "gan = datasets['gan_mut_v11_positions_Lymph-CLL_UNMUT_step2_start_div100'] #SECTION - Update path"
   ]
  },
  {
   "cell_type": "code",
   "execution_count": 5,
   "metadata": {},
   "outputs": [],
   "source": [
    "# Remove ranks with less than 2 mutations\n",
    "gan = gan.loc[gan.groupby('rank')['rank'].transform('size') >= 3]"
   ]
  },
  {
   "cell_type": "code",
   "execution_count": 15,
   "metadata": {},
   "outputs": [],
   "source": [
    "# Generate step1 data\n",
    "synthesizer = CTGANSynthesizer.load('/outdir/tmp_training/Lymph-CLL_UNMUT_ctgan_ep80_bs4000_ddim8_8_dlr0.0002_ds2_edim128_gdim8_8_glr0.0002_pac10_v11_step1_div100.pkl') #SECTION - Update path\n",
    "synthetic_data = synthesizer.sample(num_rows=gan.shape[0])"
   ]
  },
  {
   "cell_type": "code",
   "execution_count": null,
   "metadata": {},
   "outputs": [],
   "source": [
    "# For each window from step1\n",
    "rank1 = gan['rank'].unique()\n",
    "\n",
    "# Define parameters\n",
    "epochs = 3000\n",
    "batch_size = 5000 #300\n",
    "compress_dims = (256,256) #Size of each hidden layer in the encoder #(128, 128)\n",
    "decompress_dims = (256,256) #Size of each hidden layer in the decoder #(128, 128)\n",
    "embedding_dim = 128 #Size of the random sample passed to the Generator #128\n",
    "l2scale = 1e-5 #1-e5\n",
    "loss_factor = 2 #2\n",
    "\n",
    "# Print paramaters\n",
    "compress_dims_print = f'{compress_dims[0]}_{compress_dims[1]}'\n",
    "decompress_dims_print = f'{decompress_dims[0]}_{decompress_dims[1]}'\n",
    "\n",
    "synthetic_data2:pd.DataFrame = pd.DataFrame()\n",
    "for (idx,window) in enumerate(rank1):\n",
    "    # Make a subset\n",
    "    tmp = pd.DataFrame({'start': gan['start'][gan['rank'] == window]})\n",
    "    \n",
    "    # Detect metadata\n",
    "    metadata = SingleTableMetadata()\n",
    "    metadata.detect_from_dataframe(data=tmp)\n",
    "        \n",
    "    # Define synthesizer options\n",
    "    synthesizer = TVAESynthesizer(metadata,\n",
    "                              epochs = epochs,\n",
    "                              batch_size = batch_size,\n",
    "                              compress_dims = compress_dims,\n",
    "                              decompress_dims = decompress_dims,\n",
    "                              embedding_dim =embedding_dim,\n",
    "                              l2scale = l2scale,\n",
    "                              loss_factor = loss_factor,\n",
    "                              enforce_min_max_values = True)\n",
    "    \n",
    "    # Transform the columns\n",
    "    synthesizer.auto_assign_transformers(tmp)\n",
    "\n",
    "    # Train the model\n",
    "    synthesizer.fit(tmp)\n",
    "    synthesizer.save(filepath=f'/outdir/tmp_training/Lymph-CLL_UNMUT_{idx}_tvae_ep{epochs}_bs{batch_size}_cdim{compress_dims_print}_edim{embedding_dim}_ddim{decompress_dims_print}_v11_step2_div100.pkl') #SECTION - Update path\n",
    "\n",
    "    # Simulate data\n",
    "    nrow = synthetic_data[synthetic_data['rank'] == window].shape[0]\n",
    "    tmp_synthetic_data = synthesizer.sample(num_rows=nrow)\n",
    "    \n",
    "    # Concatenate the data\n",
    "    synthetic_data2 = pd.concat([synthetic_data2, tmp_synthetic_data])\n",
    "\n",
    "    # Plot the results\n",
    "    ## Plot the original data\n",
    "    # plt.hist(tmp['start'], alpha=0.6, color='r', bins=30, label='Histogram')\n",
    "    # plt.xlabel('Value')\n",
    "    # plt.ylabel('Frequency')\n",
    "    # plt.title('Original Data')\n",
    "    # # tmp.plot(kind='density')\n",
    "    # plt.show()\n",
    "    # ## Plot the synthetic data\n",
    "    # plt.hist(tmp_synthetic_data['start'], alpha=0.6, color='b', bins=30, label='Histogram')\n",
    "    # # tmp_synthetic_data.plot(kind='density')\n",
    "    # plt.show()\n",
    "\n",
    "# Save simulated data\n",
    "synthetic_data2.to_csv(f'/outdir/tmp_csv/Lymph-CLL_UNMUT_tvae_ep{epochs}_bs{batch_size}_cdim{compress_dims_print}_edim{embedding_dim}_ddim{decompress_dims_print}_v11_step2_start_div100.csv',\n",
    "                      index=False) #SECTION - Update path\n",
    "synthetic_data.to_csv(f'/outdir/tmp_csv/Lymph_CLL_UNMUT_tvae_ep{epochs}_bs{batch_size}_cdim{compress_dims_print}_edim{embedding_dim}_ddim{decompress_dims_print}_v11_step1_rank_div100.csv',\n",
    "                      index=False) #SECTION - Update path"
   ]
  },
  {
   "cell_type": "markdown",
   "metadata": {},
   "source": [
    "# Step 3 - Save the models into a pickle"
   ]
  },
  {
   "cell_type": "code",
   "execution_count": 7,
   "metadata": {},
   "outputs": [],
   "source": [
    "posModel = {}\n",
    "\n",
    "# Step1 model\n",
    "posModel['step1'] = CTGANSynthesizer.load('/outdir/tmp_training/Lymph-CLL_UNMUT_ctgan_ep80_bs4000_ddim8_8_dlr0.0002_ds2_edim128_gdim8_8_glr0.0002_pac10_v11_step1_div100.pkl') #SECTION - Update path\n",
    "\n",
    "# Step2 models\n",
    "for (idx,window) in enumerate(rank1):\n",
    "    posModel[window] = TVAESynthesizer.load(f'/outdir/tmp_training/Lymph-CLL_UNMUT_{idx}_tvae_ep3000_bs5000_cdim256_256_edim128_ddim256_256_v11_step2_div100.pkl') #SECTION - Update path\n",
    "\n",
    "# Save the dictionary into a pickle file\n",
    "with open('/outdir/Lymph-CLL_UNMUT_positions2.pkl', 'wb') as handle: #SECTION - Update path\n",
    "    pickle.dump(posModel, handle, protocol=pickle.HIGHEST_PROTOCOL)\n"
   ]
  }
 ],
 "metadata": {
  "kernelspec": {
   "display_name": "Python 3 (ipykernel)",
   "language": "python",
   "name": "python3"
  },
  "language_info": {
   "codemirror_mode": {
    "name": "ipython",
    "version": 3
   },
   "file_extension": ".py",
   "mimetype": "text/x-python",
   "name": "python",
   "nbconvert_exporter": "python",
   "pygments_lexer": "ipython3",
   "version": "3.10.12"
  }
 },
 "nbformat": 4,
 "nbformat_minor": 2
}
